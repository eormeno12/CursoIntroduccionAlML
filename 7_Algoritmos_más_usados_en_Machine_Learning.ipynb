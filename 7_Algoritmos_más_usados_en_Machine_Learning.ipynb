{
  "nbformat": 4,
  "nbformat_minor": 0,
  "metadata": {
    "colab": {
      "name": "7. Algoritmos más usados en Machine Learning.ipynb",
      "provenance": [],
      "authorship_tag": "ABX9TyM1KgLewWv7ygrP4sCvkBwj",
      "include_colab_link": true
    },
    "kernelspec": {
      "name": "python3",
      "display_name": "Python 3"
    }
  },
  "cells": [
    {
      "cell_type": "markdown",
      "metadata": {
        "id": "view-in-github",
        "colab_type": "text"
      },
      "source": [
        "<a href=\"https://colab.research.google.com/github/eormeno12/CursoIntroduccionAlML/blob/7.Algoritmos_m%C3%A1s_usados_en_Machine_Learning/7_Algoritmos_m%C3%A1s_usados_en_Machine_Learning.ipynb\" target=\"_parent\"><img src=\"https://colab.research.google.com/assets/colab-badge.svg\" alt=\"Open In Colab\"/></a>"
      ]
    },
    {
      "cell_type": "markdown",
      "metadata": {
        "id": "QLopuKe5rfUS"
      },
      "source": [
        "#Algoritmos en ML\n",
        "\n",
        "---"
      ]
    },
    {
      "cell_type": "markdown",
      "metadata": {
        "id": "jpbGUMqzrlCK"
      },
      "source": [
        "Reinforcement learning -> El algoritmo se encarga de detectar mediante la prueba error cual es la situación que le beneficia.\n",
        "\n",
        "**Situación para contextualizar**:\n",
        "Pongamos de ejemplo a un videojuego, nuestro algoritmo detectaria que cuando se choca con algo, pierde vida, por lo tanto lo va evitar, nuestro algoritmo detectaria que cuando pasa de nivel lo beneficia, por lo tanto va intentar pasar de nivel siempre. Este proceso de catigo beneficio se repite de manera iterativa de tal manera que al final el algoritmo va a aprendiendo con cada situación."
      ]
    },
    {
      "cell_type": "markdown",
      "metadata": {
        "id": "2JSdZCZjtfZT"
      },
      "source": [
        "Supervised learning ->  Se le entregan casos con etiquetas al algoritmo para que posteriormente haga predicciones.\n",
        "\n",
        "**Grupos**:\n",
        "\n",
        "* Regresión.\n",
        "\n",
        "* Clasificación.\n",
        "\n",
        "**Ejemplos:**\n",
        "\n",
        "* **Regresión Lineal (regresión)**\n",
        "\n",
        "* **Regresión Logística (clasificación)**\n",
        "\n",
        "* **Native Bayes (clasifiación)** -> Agrupa datos de forma probabilística de acuerdo al teorema de Bayes.\n",
        "\n",
        "* **K-nearest-neighbors (regresión o clasificación)**-> Hace clusters de datos y se encarga de identificar en que grupo se va a encontrar un dato nuevo de acuerdo a la distancia de los k (vecinos). Distancia Euclidiana, Hamming o Manhattan.\n",
        "\n",
        "* **Decision trees (regresión o clasificación)** -> Es un proceso para tomar decisiones. Se parece mucho a un sistema de if else. Tener cuidado con sobre-ajustarlo.\n",
        "\n",
        "* **Random Forest (regresión o clasificación)** -> Es conocido como un ensamblador, este toma varios árboles para clasificar y generar una clase final.\n",
        "\n",
        "* **Redes neuronales (clasificación)** -> Funcionan rebotando información entre neuronas, son un ensamble de varias capas y botan un output."
      ]
    },
    {
      "cell_type": "markdown",
      "metadata": {
        "id": "_SI3ZhECth3I"
      },
      "source": [
        "\n",
        "Unsupervised learning -> No se le entrega nada de etiquetas al algoritmo, solo datos, de los cuales debe de detectar patrones.\n",
        "\n",
        "**Grupos**:\n",
        "*   Clusters - Agrupamiento.\n",
        "*   Reducción de dimensionalidad.\n",
        "\n",
        "**Ejemplos:**\n",
        "* **K-means**: Se crean clusters (k) en un primer instante mediante el establecimeinto de centros aleatorios y posteriormente mediante el punto medio de estos grupos hasta que ningún dato se tenga que reacomodar."
      ]
    }
  ]
}