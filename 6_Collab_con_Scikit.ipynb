{
  "nbformat": 4,
  "nbformat_minor": 0,
  "metadata": {
    "colab": {
      "name": "6. Collab con Scikit.ipynb",
      "provenance": [],
      "authorship_tag": "ABX9TyMmZiqoyXs6OJ4QY0ves5mA",
      "include_colab_link": true
    },
    "kernelspec": {
      "name": "python3",
      "display_name": "Python 3"
    }
  },
  "cells": [
    {
      "cell_type": "markdown",
      "metadata": {
        "id": "view-in-github",
        "colab_type": "text"
      },
      "source": [
        "<a href=\"https://colab.research.google.com/github/eormeno12/CursoIntroduccionAlML/blob/6.Collab_con_Scikit/6_Collab_con_Scikit.ipynb\" target=\"_parent\"><img src=\"https://colab.research.google.com/assets/colab-badge.svg\" alt=\"Open In Colab\"/></a>"
      ]
    },
    {
      "cell_type": "markdown",
      "metadata": {
        "id": "RqJX-ruvd75P"
      },
      "source": [
        "#Collab con Scikit\n",
        "\n",
        "---"
      ]
    },
    {
      "cell_type": "markdown",
      "metadata": {
        "id": "CDkNafxkeBq8"
      },
      "source": [
        "Clasificación de flores.\n",
        "\n",
        "Set de datos de Scikit -> https://scikit-learn.org/stable/datasets/index.html"
      ]
    },
    {
      "cell_type": "code",
      "metadata": {
        "id": "Ee2FH_szbCmX"
      },
      "source": [
        "#importa datasets de sklearn\n",
        "from sklearn.datasets import load_iris\n",
        "#importa el algoritmo RandomForestClassifier (C L A S I F I C A D O R)\n",
        "from sklearn.ensemble import RandomForestClassifier\n",
        "#maneja datos\n",
        "import pandas as pd\n",
        "#maneja números\n",
        "import numpy as np"
      ],
      "execution_count": 3,
      "outputs": []
    },
    {
      "cell_type": "markdown",
      "metadata": {
        "id": "vdEwnft7dKjS"
      },
      "source": [
        "Lo que hace **random.seed** es que genera un pre set de datos para que si compartimos el notebook las otras personas puedan tener resultados similares, evitamos incertidumbres."
      ]
    },
    {
      "cell_type": "code",
      "metadata": {
        "id": "w5ZkT07HcqhX"
      },
      "source": [
        "np.random.seed(0)"
      ],
      "execution_count": 4,
      "outputs": []
    },
    {
      "cell_type": "code",
      "metadata": {
        "id": "xT3x8YYHdC8f"
      },
      "source": [
        "iris = load_iris()"
      ],
      "execution_count": 5,
      "outputs": []
    },
    {
      "cell_type": "code",
      "metadata": {
        "id": "-6NNK_iXec28"
      },
      "source": [
        "dataframe = pd.DataFrame(iris.data, columns=iris.feature_names)"
      ],
      "execution_count": 7,
      "outputs": []
    },
    {
      "cell_type": "code",
      "metadata": {
        "id": "l21y_8Ujeq7v",
        "outputId": "3e0d85c8-3cdb-46ee-d4ab-499237b0f942",
        "colab": {
          "base_uri": "https://localhost:8080/",
          "height": 204
        }
      },
      "source": [
        "dataframe.head()"
      ],
      "execution_count": 8,
      "outputs": [
        {
          "output_type": "execute_result",
          "data": {
            "text/html": [
              "<div>\n",
              "<style scoped>\n",
              "    .dataframe tbody tr th:only-of-type {\n",
              "        vertical-align: middle;\n",
              "    }\n",
              "\n",
              "    .dataframe tbody tr th {\n",
              "        vertical-align: top;\n",
              "    }\n",
              "\n",
              "    .dataframe thead th {\n",
              "        text-align: right;\n",
              "    }\n",
              "</style>\n",
              "<table border=\"1\" class=\"dataframe\">\n",
              "  <thead>\n",
              "    <tr style=\"text-align: right;\">\n",
              "      <th></th>\n",
              "      <th>sepal length (cm)</th>\n",
              "      <th>sepal width (cm)</th>\n",
              "      <th>petal length (cm)</th>\n",
              "      <th>petal width (cm)</th>\n",
              "    </tr>\n",
              "  </thead>\n",
              "  <tbody>\n",
              "    <tr>\n",
              "      <th>0</th>\n",
              "      <td>5.1</td>\n",
              "      <td>3.5</td>\n",
              "      <td>1.4</td>\n",
              "      <td>0.2</td>\n",
              "    </tr>\n",
              "    <tr>\n",
              "      <th>1</th>\n",
              "      <td>4.9</td>\n",
              "      <td>3.0</td>\n",
              "      <td>1.4</td>\n",
              "      <td>0.2</td>\n",
              "    </tr>\n",
              "    <tr>\n",
              "      <th>2</th>\n",
              "      <td>4.7</td>\n",
              "      <td>3.2</td>\n",
              "      <td>1.3</td>\n",
              "      <td>0.2</td>\n",
              "    </tr>\n",
              "    <tr>\n",
              "      <th>3</th>\n",
              "      <td>4.6</td>\n",
              "      <td>3.1</td>\n",
              "      <td>1.5</td>\n",
              "      <td>0.2</td>\n",
              "    </tr>\n",
              "    <tr>\n",
              "      <th>4</th>\n",
              "      <td>5.0</td>\n",
              "      <td>3.6</td>\n",
              "      <td>1.4</td>\n",
              "      <td>0.2</td>\n",
              "    </tr>\n",
              "  </tbody>\n",
              "</table>\n",
              "</div>"
            ],
            "text/plain": [
              "   sepal length (cm)  sepal width (cm)  petal length (cm)  petal width (cm)\n",
              "0                5.1               3.5                1.4               0.2\n",
              "1                4.9               3.0                1.4               0.2\n",
              "2                4.7               3.2                1.3               0.2\n",
              "3                4.6               3.1                1.5               0.2\n",
              "4                5.0               3.6                1.4               0.2"
            ]
          },
          "metadata": {
            "tags": []
          },
          "execution_count": 8
        }
      ]
    },
    {
      "cell_type": "markdown",
      "metadata": {
        "id": "SujNuf9DfF4E"
      },
      "source": [
        "Preparación de datos"
      ]
    },
    {
      "cell_type": "code",
      "metadata": {
        "id": "0yoLpQgqe8j_"
      },
      "source": [
        "dataframe[\"species\"] = pd.Categorical.from_codes(iris.target, iris.target_names)"
      ],
      "execution_count": 9,
      "outputs": []
    },
    {
      "cell_type": "code",
      "metadata": {
        "id": "MHb074IlfS2S",
        "outputId": "0a46e1c1-123a-4e42-8751-f9ee1e33cb4b",
        "colab": {
          "base_uri": "https://localhost:8080/",
          "height": 204
        }
      },
      "source": [
        "dataframe.head()"
      ],
      "execution_count": 11,
      "outputs": [
        {
          "output_type": "execute_result",
          "data": {
            "text/html": [
              "<div>\n",
              "<style scoped>\n",
              "    .dataframe tbody tr th:only-of-type {\n",
              "        vertical-align: middle;\n",
              "    }\n",
              "\n",
              "    .dataframe tbody tr th {\n",
              "        vertical-align: top;\n",
              "    }\n",
              "\n",
              "    .dataframe thead th {\n",
              "        text-align: right;\n",
              "    }\n",
              "</style>\n",
              "<table border=\"1\" class=\"dataframe\">\n",
              "  <thead>\n",
              "    <tr style=\"text-align: right;\">\n",
              "      <th></th>\n",
              "      <th>sepal length (cm)</th>\n",
              "      <th>sepal width (cm)</th>\n",
              "      <th>petal length (cm)</th>\n",
              "      <th>petal width (cm)</th>\n",
              "      <th>species</th>\n",
              "    </tr>\n",
              "  </thead>\n",
              "  <tbody>\n",
              "    <tr>\n",
              "      <th>0</th>\n",
              "      <td>5.1</td>\n",
              "      <td>3.5</td>\n",
              "      <td>1.4</td>\n",
              "      <td>0.2</td>\n",
              "      <td>setosa</td>\n",
              "    </tr>\n",
              "    <tr>\n",
              "      <th>1</th>\n",
              "      <td>4.9</td>\n",
              "      <td>3.0</td>\n",
              "      <td>1.4</td>\n",
              "      <td>0.2</td>\n",
              "      <td>setosa</td>\n",
              "    </tr>\n",
              "    <tr>\n",
              "      <th>2</th>\n",
              "      <td>4.7</td>\n",
              "      <td>3.2</td>\n",
              "      <td>1.3</td>\n",
              "      <td>0.2</td>\n",
              "      <td>setosa</td>\n",
              "    </tr>\n",
              "    <tr>\n",
              "      <th>3</th>\n",
              "      <td>4.6</td>\n",
              "      <td>3.1</td>\n",
              "      <td>1.5</td>\n",
              "      <td>0.2</td>\n",
              "      <td>setosa</td>\n",
              "    </tr>\n",
              "    <tr>\n",
              "      <th>4</th>\n",
              "      <td>5.0</td>\n",
              "      <td>3.6</td>\n",
              "      <td>1.4</td>\n",
              "      <td>0.2</td>\n",
              "      <td>setosa</td>\n",
              "    </tr>\n",
              "  </tbody>\n",
              "</table>\n",
              "</div>"
            ],
            "text/plain": [
              "   sepal length (cm)  sepal width (cm)  ...  petal width (cm)  species\n",
              "0                5.1               3.5  ...               0.2   setosa\n",
              "1                4.9               3.0  ...               0.2   setosa\n",
              "2                4.7               3.2  ...               0.2   setosa\n",
              "3                4.6               3.1  ...               0.2   setosa\n",
              "4                5.0               3.6  ...               0.2   setosa\n",
              "\n",
              "[5 rows x 5 columns]"
            ]
          },
          "metadata": {
            "tags": []
          },
          "execution_count": 11
        }
      ]
    },
    {
      "cell_type": "markdown",
      "metadata": {
        "id": "Y8pPJRtefnus"
      },
      "source": [
        "**80%** datos de entrenamiento y **20%** de prueba."
      ]
    },
    {
      "cell_type": "code",
      "metadata": {
        "id": "NKJrgp05fuDh"
      },
      "source": [
        "train_random = np.random.rand(len(dataframe)) < 0.8\n",
        "train_set = dataframe[train_random]"
      ],
      "execution_count": 12,
      "outputs": []
    },
    {
      "cell_type": "markdown",
      "metadata": {
        "id": "jenc5PxEgOty"
      },
      "source": [
        "La ~ hace que nos entregue el otro porcentaje de datos."
      ]
    },
    {
      "cell_type": "code",
      "metadata": {
        "id": "i9gLuhEHf6um"
      },
      "source": [
        "test_set = dataframe[~train_random]"
      ],
      "execution_count": 14,
      "outputs": []
    },
    {
      "cell_type": "code",
      "metadata": {
        "id": "DUyRBjbugKsi",
        "outputId": "04afaeee-5c49-43c8-e07e-0d47770328b6",
        "colab": {
          "base_uri": "https://localhost:8080/",
          "height": 34
        }
      },
      "source": [
        "print(f\"Number obs en el set de entrenamiento = {len(train_set)}\")"
      ],
      "execution_count": 15,
      "outputs": [
        {
          "output_type": "stream",
          "text": [
            "Number obs en el set de entrenamiento = 123\n"
          ],
          "name": "stdout"
        }
      ]
    },
    {
      "cell_type": "code",
      "metadata": {
        "id": "JwXLJGlPgjYV",
        "outputId": "6915e1ae-3a76-4974-a24a-f1e5074be120",
        "colab": {
          "base_uri": "https://localhost:8080/",
          "height": 34
        }
      },
      "source": [
        "print(f\"Number obs en el set de prueba = {len(test_set)}\")"
      ],
      "execution_count": 17,
      "outputs": [
        {
          "output_type": "stream",
          "text": [
            "Number obs en el set de prueba = 27\n"
          ],
          "name": "stdout"
        }
      ]
    },
    {
      "cell_type": "code",
      "metadata": {
        "id": "zwaXsy1Qgmcr",
        "outputId": "c6d13e6d-d8ca-403d-f107-a3726654a8df",
        "colab": {
          "base_uri": "https://localhost:8080/",
          "height": 68
        }
      },
      "source": [
        "features = dataframe.columns[:4]\n",
        "features"
      ],
      "execution_count": 18,
      "outputs": [
        {
          "output_type": "execute_result",
          "data": {
            "text/plain": [
              "Index(['sepal length (cm)', 'sepal width (cm)', 'petal length (cm)',\n",
              "       'petal width (cm)'],\n",
              "      dtype='object')"
            ]
          },
          "metadata": {
            "tags": []
          },
          "execution_count": 18
        }
      ]
    },
    {
      "cell_type": "markdown",
      "metadata": {
        "id": "v92eScOphp7Y"
      },
      "source": [
        "El **factorize** nos permite asignarle un valor númerico a la variable string de nuestro target."
      ]
    },
    {
      "cell_type": "code",
      "metadata": {
        "id": "U0DQRnuEhWRX",
        "outputId": "39be4380-e64c-4178-d4ce-b57491afc7b1",
        "colab": {
          "base_uri": "https://localhost:8080/",
          "height": 119
        }
      },
      "source": [
        "y = pd.factorize(train_set[\"species\"])[0]\n",
        "y"
      ],
      "execution_count": 23,
      "outputs": [
        {
          "output_type": "execute_result",
          "data": {
            "text/plain": [
              "array([0, 0, 0, 0, 0, 0, 0, 0, 0, 0, 0, 0, 0, 0, 0, 0, 0, 0, 0, 0, 0, 0,\n",
              "       0, 0, 0, 0, 0, 0, 0, 0, 0, 0, 0, 0, 0, 0, 0, 0, 0, 0, 0, 0, 1, 1,\n",
              "       1, 1, 1, 1, 1, 1, 1, 1, 1, 1, 1, 1, 1, 1, 1, 1, 1, 1, 1, 1, 1, 1,\n",
              "       1, 1, 1, 1, 1, 1, 1, 1, 1, 1, 1, 1, 1, 1, 1, 1, 1, 1, 1, 2, 2, 2,\n",
              "       2, 2, 2, 2, 2, 2, 2, 2, 2, 2, 2, 2, 2, 2, 2, 2, 2, 2, 2, 2, 2, 2,\n",
              "       2, 2, 2, 2, 2, 2, 2, 2, 2, 2, 2, 2, 2])"
            ]
          },
          "metadata": {
            "tags": []
          },
          "execution_count": 23
        }
      ]
    },
    {
      "cell_type": "markdown",
      "metadata": {
        "id": "R3y8_xGOh2ze"
      },
      "source": [
        "###Creando el algoritmo"
      ]
    },
    {
      "cell_type": "markdown",
      "metadata": {
        "id": "QnLIP5C9h-_i"
      },
      "source": [
        "clf -> nombre de convención para un clasificador."
      ]
    },
    {
      "cell_type": "code",
      "metadata": {
        "id": "3eD4fWm1hi6_"
      },
      "source": [
        "clf = RandomForestClassifier(n_jobs=2, random_state=0)"
      ],
      "execution_count": 25,
      "outputs": []
    },
    {
      "cell_type": "markdown",
      "metadata": {
        "id": "HFDwtNoqiFtv"
      },
      "source": [
        "fit -> función de Scikit para entrenar el modelo.\n",
        "\n",
        "Se le pasa como primera variable los datos y como segunda las etiquetas si se trata de un algortimo supervisado."
      ]
    },
    {
      "cell_type": "code",
      "metadata": {
        "id": "b5FgXMzXiGYY",
        "outputId": "88f3422c-487a-4abb-d474-e494ec20051c",
        "colab": {
          "base_uri": "https://localhost:8080/",
          "height": 153
        }
      },
      "source": [
        "clf.fit(train_set[features], y)"
      ],
      "execution_count": 26,
      "outputs": [
        {
          "output_type": "execute_result",
          "data": {
            "text/plain": [
              "RandomForestClassifier(bootstrap=True, ccp_alpha=0.0, class_weight=None,\n",
              "                       criterion='gini', max_depth=None, max_features='auto',\n",
              "                       max_leaf_nodes=None, max_samples=None,\n",
              "                       min_impurity_decrease=0.0, min_impurity_split=None,\n",
              "                       min_samples_leaf=1, min_samples_split=2,\n",
              "                       min_weight_fraction_leaf=0.0, n_estimators=100, n_jobs=2,\n",
              "                       oob_score=False, random_state=0, verbose=0,\n",
              "                       warm_start=False)"
            ]
          },
          "metadata": {
            "tags": []
          },
          "execution_count": 26
        }
      ]
    },
    {
      "cell_type": "markdown",
      "metadata": {
        "id": "gwVg9-N7ixdK"
      },
      "source": [
        "Ahora predecimos."
      ]
    },
    {
      "cell_type": "code",
      "metadata": {
        "id": "YLLbzw4yiedM",
        "outputId": "b2464fd4-ebd0-4ec3-be40-5336c102872f",
        "colab": {
          "base_uri": "https://localhost:8080/",
          "height": 51
        }
      },
      "source": [
        "clf.predict(test_set[features])"
      ],
      "execution_count": 27,
      "outputs": [
        {
          "output_type": "execute_result",
          "data": {
            "text/plain": [
              "array([0, 0, 0, 0, 0, 0, 0, 0, 1, 1, 1, 2, 2, 1, 1, 2, 2, 2, 2, 2, 2, 2,\n",
              "       2, 2, 2, 2, 2])"
            ]
          },
          "metadata": {
            "tags": []
          },
          "execution_count": 27
        }
      ]
    },
    {
      "cell_type": "markdown",
      "metadata": {
        "id": "QBVmDQeGi_1Z"
      },
      "source": [
        "Convertimos los valores númericos en texto de acuerdo al data set."
      ]
    },
    {
      "cell_type": "code",
      "metadata": {
        "id": "DYxYQqo4i2wD",
        "outputId": "66e63599-a31a-40c8-d2ee-5ceb3f52ebda",
        "colab": {
          "base_uri": "https://localhost:8080/",
          "height": 34
        }
      },
      "source": [
        "preds = iris.target_names[clf.predict(test_set[features])]\n",
        "preds[:5]"
      ],
      "execution_count": 33,
      "outputs": [
        {
          "output_type": "execute_result",
          "data": {
            "text/plain": [
              "array(['setosa', 'setosa', 'setosa', 'setosa', 'setosa'], dtype='<U10')"
            ]
          },
          "metadata": {
            "tags": []
          },
          "execution_count": 33
        }
      ]
    },
    {
      "cell_type": "code",
      "metadata": {
        "id": "yfzNl6y7jQge",
        "outputId": "e1eb5e5d-77a3-408e-e091-dc095640a6ef",
        "colab": {
          "base_uri": "https://localhost:8080/",
          "height": 136
        }
      },
      "source": [
        "test_set[\"species\"].head()"
      ],
      "execution_count": 31,
      "outputs": [
        {
          "output_type": "execute_result",
          "data": {
            "text/plain": [
              "7     setosa\n",
              "8     setosa\n",
              "13    setosa\n",
              "17    setosa\n",
              "19    setosa\n",
              "Name: species, dtype: category\n",
              "Categories (3, object): ['setosa', 'versicolor', 'virginica']"
            ]
          },
          "metadata": {
            "tags": []
          },
          "execution_count": 31
        }
      ]
    },
    {
      "cell_type": "markdown",
      "metadata": {
        "id": "y-6aMkXzjqn8"
      },
      "source": [
        "#Matriz de Confusión"
      ]
    },
    {
      "cell_type": "markdown",
      "metadata": {
        "id": "562hoY8jkYpx"
      },
      "source": [
        "Es una herramienta para validar datos en la cual se posicionan los datos reales en un eje mientras que los predichos en otro. De esta forma, si los datos coinciden en un punto, se puede saber si acertaron o no.\n",
        "\n",
        "Se puede apreciar como se forma una diagonal.\n",
        "\n",
        "En este caso nuestro modelo falló al identificar a 2 versicolor como virginica."
      ]
    },
    {
      "cell_type": "code",
      "metadata": {
        "id": "p26CAiOljfYl",
        "outputId": "c08bf169-776f-478d-8e2c-4c469a6a6889",
        "colab": {
          "base_uri": "https://localhost:8080/",
          "height": 173
        }
      },
      "source": [
        "pd.crosstab(test_set[\"species\"], preds, rownames=[\"Actual Species\"], colnames=[\"Predicted Species\"])"
      ],
      "execution_count": 35,
      "outputs": [
        {
          "output_type": "execute_result",
          "data": {
            "text/html": [
              "<div>\n",
              "<style scoped>\n",
              "    .dataframe tbody tr th:only-of-type {\n",
              "        vertical-align: middle;\n",
              "    }\n",
              "\n",
              "    .dataframe tbody tr th {\n",
              "        vertical-align: top;\n",
              "    }\n",
              "\n",
              "    .dataframe thead th {\n",
              "        text-align: right;\n",
              "    }\n",
              "</style>\n",
              "<table border=\"1\" class=\"dataframe\">\n",
              "  <thead>\n",
              "    <tr style=\"text-align: right;\">\n",
              "      <th>Predicted Species</th>\n",
              "      <th>setosa</th>\n",
              "      <th>versicolor</th>\n",
              "      <th>virginica</th>\n",
              "    </tr>\n",
              "    <tr>\n",
              "      <th>Actual Species</th>\n",
              "      <th></th>\n",
              "      <th></th>\n",
              "      <th></th>\n",
              "    </tr>\n",
              "  </thead>\n",
              "  <tbody>\n",
              "    <tr>\n",
              "      <th>setosa</th>\n",
              "      <td>8</td>\n",
              "      <td>0</td>\n",
              "      <td>0</td>\n",
              "    </tr>\n",
              "    <tr>\n",
              "      <th>versicolor</th>\n",
              "      <td>0</td>\n",
              "      <td>5</td>\n",
              "      <td>2</td>\n",
              "    </tr>\n",
              "    <tr>\n",
              "      <th>virginica</th>\n",
              "      <td>0</td>\n",
              "      <td>0</td>\n",
              "      <td>12</td>\n",
              "    </tr>\n",
              "  </tbody>\n",
              "</table>\n",
              "</div>"
            ],
            "text/plain": [
              "Predicted Species  setosa  versicolor  virginica\n",
              "Actual Species                                  \n",
              "setosa                  8           0          0\n",
              "versicolor              0           5          2\n",
              "virginica               0           0         12"
            ]
          },
          "metadata": {
            "tags": []
          },
          "execution_count": 35
        }
      ]
    },
    {
      "cell_type": "markdown",
      "metadata": {
        "id": "FGdKveYilDXE"
      },
      "source": [
        "Ver a cual de los features el clasificador le dio más importancia o peso."
      ]
    },
    {
      "cell_type": "code",
      "metadata": {
        "id": "1ouumDFoj1wE",
        "outputId": "3c61a269-fdb4-4056-fb9f-6f02c5409829",
        "colab": {
          "base_uri": "https://localhost:8080/",
          "height": 85
        }
      },
      "source": [
        "list(zip(train_set[features], clf.feature_importances_))"
      ],
      "execution_count": 38,
      "outputs": [
        {
          "output_type": "execute_result",
          "data": {
            "text/plain": [
              "[('sepal length (cm)', 0.0889479467793623),\n",
              " ('sepal width (cm)', 0.0234427551884027),\n",
              " ('petal length (cm)', 0.44105878808840404),\n",
              " ('petal width (cm)', 0.44655050994383105)]"
            ]
          },
          "metadata": {
            "tags": []
          },
          "execution_count": 38
        }
      ]
    },
    {
      "cell_type": "markdown",
      "metadata": {
        "id": "6PBcLrN1lzKN"
      },
      "source": [
        "Esto es como un análisi post-muerte.\n",
        "\n",
        "**Por ejemplo:**\n",
        "\n",
        "No podríamos omitir en una investigación el width del petalo porque este tiene un peso de 44%, es sumamente importante para determinar a que tipo de flor de refiere, mientras que con el width del sepalo que solo tiene un 2% de importancia, nos podriamos dar el lujo de excluirlo y saber que el resultado no se va a ver afectado en gran magnitud."
      ]
    }
  ]
}