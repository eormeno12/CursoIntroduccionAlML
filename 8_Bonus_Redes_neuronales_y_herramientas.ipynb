{
  "nbformat": 4,
  "nbformat_minor": 0,
  "metadata": {
    "colab": {
      "name": "8. Bonus: Redes neuronales y herramientas.ipynb",
      "provenance": [],
      "authorship_tag": "ABX9TyPndekUSrS5KsP9ZhTqr/VT",
      "include_colab_link": true
    },
    "kernelspec": {
      "name": "python3",
      "display_name": "Python 3"
    }
  },
  "cells": [
    {
      "cell_type": "markdown",
      "metadata": {
        "id": "view-in-github",
        "colab_type": "text"
      },
      "source": [
        "<a href=\"https://colab.research.google.com/github/eormeno12/CursoIntroduccionAlML/blob/8.Bonus_Redes_neuronales_y_herramientas/8_Bonus_Redes_neuronales_y_herramientas.ipynb\" target=\"_parent\"><img src=\"https://colab.research.google.com/assets/colab-badge.svg\" alt=\"Open In Colab\"/></a>"
      ]
    },
    {
      "cell_type": "markdown",
      "metadata": {
        "id": "i1O-8EQK2nj1"
      },
      "source": [
        "#Redes Neuronales\n",
        "\n",
        "---"
      ]
    },
    {
      "cell_type": "markdown",
      "metadata": {
        "id": "gIg9GM2I2sC9"
      },
      "source": [
        "**Playground con REDES** -> https://playground.tensorflow.org/"
      ]
    },
    {
      "cell_type": "markdown",
      "metadata": {
        "id": "EjQgNmGV4jt8"
      },
      "source": [
        "**Redes convolucionales** -> https://www.cs.ryerson.ca/~aharley/vis/conv/\n",
        "\n",
        "Convolución -> Es una opereación matemática que se encarga de encontar patrones en imágenes.\n",
        " "
      ]
    }
  ]
}