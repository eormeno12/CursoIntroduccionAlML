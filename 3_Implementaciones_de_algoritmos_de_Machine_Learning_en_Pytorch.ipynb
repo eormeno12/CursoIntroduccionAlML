{
  "nbformat": 4,
  "nbformat_minor": 0,
  "metadata": {
    "colab": {
      "name": "3. Implementaciones de algoritmos de Machine Learning en Pytorch.ipynb",
      "provenance": [],
      "collapsed_sections": [],
      "authorship_tag": "ABX9TyORPdn88AJfpBj4RMcgwTeE",
      "include_colab_link": true
    },
    "kernelspec": {
      "name": "python3",
      "display_name": "Python 3"
    }
  },
  "cells": [
    {
      "cell_type": "markdown",
      "metadata": {
        "id": "view-in-github",
        "colab_type": "text"
      },
      "source": [
        "<a href=\"https://colab.research.google.com/github/eormeno12/CursoIntroduccionAlML/blob/3.ImplementacionesDeAlgoritmosDeMachineLearningEnPytorch/3_Implementaciones_de_algoritmos_de_Machine_Learning_en_Pytorch.ipynb\" target=\"_parent\"><img src=\"https://colab.research.google.com/assets/colab-badge.svg\" alt=\"Open In Colab\"/></a>"
      ]
    },
    {
      "cell_type": "markdown",
      "metadata": {
        "id": "BPLZzOH_iZs_"
      },
      "source": [
        "#Regresión Lineal"
      ]
    },
    {
      "cell_type": "code",
      "metadata": {
        "id": "V-1pmnFGiKJl"
      },
      "source": [
        "import numpy as np\n",
        "import torch\n",
        "import torch.nn as nn\n",
        "import torch.optim as optim\n",
        "\n",
        "import matplotlib.pyplot as plt"
      ],
      "execution_count": 13,
      "outputs": []
    },
    {
      "cell_type": "markdown",
      "metadata": {
        "id": "eLgWxA9diqz0"
      },
      "source": [
        "Ejemplo de unidades de automóviles vendidos en relación a su precio."
      ]
    },
    {
      "cell_type": "code",
      "metadata": {
        "id": "-R6KdN8-iosA",
        "outputId": "071b4644-e54d-4973-c3d0-a7ea6cd537b1",
        "colab": {
          "base_uri": "https://localhost:8080/",
          "height": 282
        }
      },
      "source": [
        "%matplotlib inline\n",
        "car_prices = np.array([5, 6, 7, 8, 9, 10]).astype(float)\n",
        "units_sold = np.array([8.5, 8, 7.5, 7, 6.5, 6]).astype(float)\n",
        "\n",
        "plt.scatter(car_prices, units_sold)"
      ],
      "execution_count": null,
      "outputs": [
        {
          "output_type": "execute_result",
          "data": {
            "text/plain": [
              "<matplotlib.collections.PathCollection at 0x7f436f1642e8>"
            ]
          },
          "metadata": {
            "tags": []
          },
          "execution_count": 8
        },
        {
          "output_type": "display_data",
          "data": {
            "image/png": "[encoded data removed]",
            "text/plain": [
              "<Figure size 432x288 with 1 Axes>"
            ]
          },
          "metadata": {
            "tags": [],
            "needs_background": "light"
          }
        }
      ]
    },
    {
      "cell_type": "markdown",
      "metadata": {
        "id": "M966fZB_kPLV"
      },
      "source": [
        "Se aplica el reshape de **-1 1** con el fin de poder facilitar la conversión futura hacia un tensor."
      ]
    },
    {
      "cell_type": "code",
      "metadata": {
        "id": "rR8ZYfY1i_Pj"
      },
      "source": [
        "car_prices_array = car_prices.reshape(-1, 1)\n",
        "units_sold_array = units_sold.reshape(-1, 1)"
      ],
      "execution_count": null,
      "outputs": []
    },
    {
      "cell_type": "markdown",
      "metadata": {
        "id": "Yk452Fhvkr8I"
      },
      "source": [
        "Conversión de un array/matriz hacia un tensor.\n",
        "\n",
        "**Nota**: units no precisa de **requires_grad_** porque es nuestro target."
      ]
    },
    {
      "cell_type": "code",
      "metadata": {
        "id": "kX-uZ3sokFE0"
      },
      "source": [
        "prices = torch.from_numpy(car_prices_array).requires_grad_(True).float()\n",
        "units = torch.from_numpy(units_sold_array).float()"
      ],
      "execution_count": null,
      "outputs": []
    },
    {
      "cell_type": "markdown",
      "metadata": {
        "id": "xLm6WBnKlUS_"
      },
      "source": [
        "Creación del model."
      ]
    },
    {
      "cell_type": "code",
      "metadata": {
        "id": "V0M4OnoKlTQ-"
      },
      "source": [
        "model = nn.Linear(1,1)"
      ],
      "execution_count": null,
      "outputs": []
    },
    {
      "cell_type": "markdown",
      "metadata": {
        "id": "xCMUnNslldId"
      },
      "source": [
        "**Nota:** El **1 1** es el tamaño del output e input."
      ]
    },
    {
      "cell_type": "code",
      "metadata": {
        "id": "zOJVLS6mlyyT"
      },
      "source": [
        "loss_function = nn.MSELoss()\n",
        "optimizer = optim.SGD(model.parameters(), lr=0.015)"
      ],
      "execution_count": null,
      "outputs": []
    },
    {
      "cell_type": "markdown",
      "metadata": {
        "id": "QMPYN3eRlyKg"
      },
      "source": [
        "**Términos:**\n",
        "\n",
        "MSELoss -> Calcula el rango de error entre la predicción y el target al momento de aplicar la norma L2.\n",
        "\n",
        "SGD -> Stocastic Gradiente Descent.\n",
        "\n",
        "lr -> learning rate, pasos a dar para minimizar el loss a través del gradiente."
      ]
    },
    {
      "cell_type": "markdown",
      "metadata": {
        "id": "BZ-eSaREm8ND"
      },
      "source": [
        "###Training Loop"
      ]
    },
    {
      "cell_type": "markdown",
      "metadata": {
        "id": "SlmosXkJneA3"
      },
      "source": [
        "Se tiene que hacer un forward pass y un backward pass.\n",
        "\n",
        "Se precisa de poner los **gradientes en zero** al momento de comenzar con el backward pass porque python acumula los datos y si se da eso, no vamos a obtener el resultado deseado."
      ]
    },
    {
      "cell_type": "code",
      "metadata": {
        "id": "tG3WVUJEnDeT",
        "outputId": "d6cbc5d5-4cd8-44ff-a358-ae374078a4a3",
        "colab": {
          "base_uri": "https://localhost:8080/",
          "height": 299
        }
      },
      "source": [
        "losses = []\n",
        "iterations = 20000\n",
        "\n",
        "for i in range(iterations):\n",
        "  pred = model(prices)\n",
        "  loss = loss_function(pred, units)\n",
        "  losses.append(loss)\n",
        "\n",
        "  optimizer.zero_grad()\n",
        "  loss.backward()\n",
        "  optimizer.step()\n",
        "\n",
        "print(loss)\n",
        "plt.plot(range(iterations), losses)"
      ],
      "execution_count": null,
      "outputs": [
        {
          "output_type": "stream",
          "text": [
            "tensor(4.0999e-09, grad_fn=<MseLossBackward>)\n"
          ],
          "name": "stdout"
        },
        {
          "output_type": "execute_result",
          "data": {
            "text/plain": [
              "[<matplotlib.lines.Line2D at 0x7f436bf56be0>]"
            ]
          },
          "metadata": {
            "tags": []
          },
          "execution_count": 28
        },
        {
          "output_type": "display_data",
          "data": {
            "image/png": "[encoded data removed]",
            "text/plain": [
              "<Figure size 432x288 with 1 Axes>"
            ]
          },
          "metadata": {
            "tags": [],
            "needs_background": "light"
          }
        }
      ]
    },
    {
      "cell_type": "markdown",
      "metadata": {
        "id": "OtM4BhriokmG"
      },
      "source": [
        "Una vez entrenado el modelo, se predice"
      ]
    },
    {
      "cell_type": "code",
      "metadata": {
        "id": "XtsXgYm5oBw3",
        "outputId": "57918617-0947-43aa-987d-7de1baebb7f3",
        "colab": {
          "base_uri": "https://localhost:8080/",
          "height": 34
        }
      },
      "source": [
        "x = torch.Tensor([[5.0]])\n",
        "prediction = model(x)\n",
        "print(\"Predicción número de unidades vendidas: \", prediction)"
      ],
      "execution_count": null,
      "outputs": [
        {
          "output_type": "stream",
          "text": [
            "Predicción número de unidades vendidas:  tensor([[8.4999]], grad_fn=<AddmmBackward>)\n"
          ],
          "name": "stdout"
        }
      ]
    },
    {
      "cell_type": "markdown",
      "metadata": {
        "id": "QCIjM3fsqt1O"
      },
      "source": [
        "#Regresión Logística\n",
        "La regresión logística es un mecanismo eficiente para calcular probabilidades.\n",
        "\n",
        "El resultado puede utilizarse tal cual o convertirlo a una categoría binaria, para lograr esto nos apoyamos en una función matemática llamada Sigmoide. Si en caso la clasificación tuviera más parámetros, haríamos uso de la función Softmax.\n",
        "\n",
        "A la regresión lineal también se le agrega el sigmoide que nos dará una probabilidad de salida y con ello resolvemos nuestro problema de pasar una regresión lineal a una regresión logística y debido a este cambio el MSE ya no será mi mejor forma de calcular el LOSS. Debe cambiar.\n",
        "\n",
        "La aproximación intuitiva es castigar cuando el valor es 0 y la predicción resulta en 1 o viceversa. Esto se logra con el logaritmo porque nos permite modelarlo perfectamente y ahora nuestra función de pérdida o LOSS va a incluir logaritmos.\n",
        "\n",
        "\n",
        "*   Para problemas de probabilidad, utilizamos una regresión logística.\n",
        "*   Para calcular el error(loss), nos basamos en la entropía, pero el gradiente sigue siendo útil."
      ]
    },
    {
      "cell_type": "markdown",
      "metadata": {
        "id": "UWq9Gw1dmZQh"
      },
      "source": [
        "####Ordenamiento de datos"
      ]
    },
    {
      "cell_type": "code",
      "metadata": {
        "id": "OKxc1ekro0Nu",
        "outputId": "c7eead4d-bfd6-4404-9abe-61d0d4cbb4d5",
        "colab": {
          "base_uri": "https://localhost:8080/",
          "height": 1000
        }
      },
      "source": [
        "n = 100\n",
        "h = n//2\n",
        "dimen = 2\n",
        "\n",
        "data = np.random.randn(n, dimen)*3\n",
        "data"
      ],
      "execution_count": 4,
      "outputs": [
        {
          "output_type": "execute_result",
          "data": {
            "text/plain": [
              "array([[ 5.42210458e-01, -1.42533269e+00],\n",
              "       [ 6.43018707e-01, -3.20904876e+00],\n",
              "       [-2.89090384e-02, -4.71594256e-01],\n",
              "       [ 9.14105728e-01, -9.22265946e-01],\n",
              "       [ 2.28647984e+00,  1.62738764e+00],\n",
              "       [-1.52622439e+00, -3.55157588e+00],\n",
              "       [ 4.23077347e+00,  2.45784770e+00],\n",
              "       [ 3.42028068e+00,  9.63915054e-01],\n",
              "       [ 4.06788734e+00,  1.96510996e+00],\n",
              "       [ 4.00038827e+00, -2.06536045e-02],\n",
              "       [ 2.14456803e+00, -3.21746128e+00],\n",
              "       [-1.33554893e-01, -1.87367196e-01],\n",
              "       [ 4.92458007e-02,  1.08390724e+00],\n",
              "       [-1.77580385e+00, -4.89119853e-01],\n",
              "       [ 2.21668165e+00, -4.64389638e+00],\n",
              "       [ 1.40304941e+00,  6.62769987e+00],\n",
              "       [ 1.94239071e+00,  7.68617222e-01],\n",
              "       [-1.97759617e+00,  1.86234274e+00],\n",
              "       [ 4.52047221e+00, -7.00127887e-01],\n",
              "       [ 9.17549117e-01, -2.39338356e+00],\n",
              "       [ 2.82910634e+00,  1.54722139e+00],\n",
              "       [ 2.12757029e+00, -1.77802167e+00],\n",
              "       [-9.81496375e-01, -4.17771236e+00],\n",
              "       [-3.42881156e+00,  1.76290899e+00],\n",
              "       [ 1.74827565e-01,  3.16656505e+00],\n",
              "       [-7.06733947e-02,  7.38417666e-01],\n",
              "       [ 3.39768729e+00,  1.08452285e+00],\n",
              "       [ 9.79295288e-01,  5.66842265e+00],\n",
              "       [ 7.90373596e-01, -1.96118290e+00],\n",
              "       [-4.24972034e+00, -1.25904279e+00],\n",
              "       [-3.13937861e+00, -3.51166015e+00],\n",
              "       [-2.66042309e+00,  6.93534677e-01],\n",
              "       [ 1.94102565e+00,  1.49612481e-01],\n",
              "       [-2.96678590e+00,  2.34180270e+00],\n",
              "       [-7.93906206e+00, -1.39095460e+00],\n",
              "       [ 5.50633456e-01,  5.28735701e+00],\n",
              "       [ 1.41590913e+00,  4.00621409e+00],\n",
              "       [ 9.13678791e-01, -5.34797598e+00],\n",
              "       [ 1.79146532e+00, -3.32645905e+00],\n",
              "       [ 7.82251425e-03, -6.43004976e+00],\n",
              "       [ 3.39157055e+00,  1.08572577e+00],\n",
              "       [-3.73410326e+00, -3.11950010e+00],\n",
              "       [ 2.95594585e+00,  6.59732226e-03],\n",
              "       [ 2.46810953e+00, -4.01943893e+00],\n",
              "       [ 2.53081640e+00,  2.45908099e+00],\n",
              "       [-5.31919261e+00,  6.32870150e-02],\n",
              "       [ 1.09234890e+00, -3.93495638e+00],\n",
              "       [ 2.72597006e+00, -2.13428468e+00],\n",
              "       [ 2.02015532e+00,  8.72585760e-01],\n",
              "       [-3.87509622e+00,  2.89747873e+00],\n",
              "       [-3.21264122e+00,  7.82180252e-01],\n",
              "       [-9.17942191e-01, -9.35925738e-01],\n",
              "       [-2.00598453e+00,  8.59895271e-01],\n",
              "       [-3.93434934e+00, -1.96069301e-01],\n",
              "       [ 3.22283127e-01, -4.66240877e+00],\n",
              "       [-1.75770724e+00, -3.34312451e+00],\n",
              "       [-2.54052933e+00,  1.85335927e+00],\n",
              "       [-1.92152499e+00, -1.47661551e+00],\n",
              "       [-7.24055371e+00, -2.03228198e+00],\n",
              "       [-4.11070037e+00,  3.52263783e-01],\n",
              "       [ 1.43078184e+00, -4.90269541e-01],\n",
              "       [-7.94326649e-01, -2.82104042e+00],\n",
              "       [-9.00198656e-01, -1.56084322e+00],\n",
              "       [ 1.88198390e+00,  1.16430113e+00],\n",
              "       [ 1.92223028e+00, -2.78541262e-02],\n",
              "       [-2.48324766e+00, -1.42338151e+00],\n",
              "       [-9.37516877e-01,  4.58621332e+00],\n",
              "       [ 2.73100025e+00,  2.68506557e-01],\n",
              "       [-1.43160609e+00,  3.26622008e+00],\n",
              "       [ 1.66732329e+00,  3.33911469e-01],\n",
              "       [-1.64623825e+00,  1.72473405e+00],\n",
              "       [ 5.01549919e+00, -3.48170244e+00],\n",
              "       [ 3.99461683e-01, -4.21131177e-01],\n",
              "       [ 2.39618737e+00, -6.64537941e-01],\n",
              "       [-2.29001840e+00,  5.15986354e+00],\n",
              "       [ 3.46496674e+00, -3.46048032e+00],\n",
              "       [ 7.25729787e+00,  5.17126265e-01],\n",
              "       [-2.69977570e+00,  2.19048931e-01],\n",
              "       [ 3.54811288e+00,  2.58793560e+00],\n",
              "       [-9.23845305e-01,  3.49943340e+00],\n",
              "       [-7.43935825e-01,  1.06169384e-01],\n",
              "       [ 3.45165452e+00, -4.21161831e+00],\n",
              "       [-2.35990188e+00, -2.02472966e+00],\n",
              "       [ 3.63802642e+00,  3.39455452e+00],\n",
              "       [ 3.71626731e+00,  2.57344026e+00],\n",
              "       [ 2.97905364e+00, -1.18002054e+00],\n",
              "       [ 2.22696043e+00, -1.42813604e-01],\n",
              "       [ 4.26038866e+00, -3.65612088e+00],\n",
              "       [ 4.30764708e+00,  1.30065071e+00],\n",
              "       [-2.63876464e+00,  1.86437453e+00],\n",
              "       [-3.15114142e-01, -4.73625926e+00],\n",
              "       [-9.72582226e-01, -1.77498895e+00],\n",
              "       [ 3.12307227e+00,  2.96609094e+00],\n",
              "       [-1.02968655e+00, -2.61376783e+00],\n",
              "       [ 1.29692142e+00,  1.05212747e+00],\n",
              "       [-1.26188917e+00, -2.95479605e+00],\n",
              "       [ 4.89420339e+00, -1.29644547e+00],\n",
              "       [ 4.45005109e+00, -1.43290507e+00],\n",
              "       [-5.54678229e+00,  5.89104130e-01],\n",
              "       [-2.58650644e+00,  1.13376584e+00]])"
            ]
          },
          "metadata": {
            "tags": []
          },
          "execution_count": 4
        }
      ]
    },
    {
      "cell_type": "code",
      "metadata": {
        "id": "8ZbA6iPFmlxz",
        "outputId": "d3ed43e8-514a-4c66-e3ef-e84d9621ca60",
        "colab": {
          "base_uri": "https://localhost:8080/",
          "height": 282
        }
      },
      "source": [
        "plt.scatter(data[:, 0], data[:, 1])"
      ],
      "execution_count": 5,
      "outputs": [
        {
          "output_type": "execute_result",
          "data": {
            "text/plain": [
              "<matplotlib.collections.PathCollection at 0x7fbaa8004dd8>"
            ]
          },
          "metadata": {
            "tags": []
          },
          "execution_count": 5
        },
        {
          "output_type": "display_data",
          "data": {
            "image/png": "[encoded data removed]",
            "text/plain": [
              "<Figure size 432x288 with 1 Axes>"
            ]
          },
          "metadata": {
            "tags": [],
            "needs_background": "light"
          }
        }
      ]
    },
    {
      "cell_type": "markdown",
      "metadata": {
        "id": "BbUScvM7raRQ"
      },
      "source": [
        "Hacer que los datos se encuentren más cercanos a los centros establecidos manualmente, en este caso, -3 y 3."
      ]
    },
    {
      "cell_type": "code",
      "metadata": {
        "id": "C1Wk-_-8m_v7"
      },
      "source": [
        "data[:h, :] -= 3\n",
        "data[h:, :] += 3"
      ],
      "execution_count": 6,
      "outputs": []
    },
    {
      "cell_type": "code",
      "metadata": {
        "id": "OFBffJA5oFG3",
        "outputId": "a0931d6b-4c0e-4224-bc92-f962e3f70c49",
        "colab": {
          "base_uri": "https://localhost:8080/",
          "height": 282
        }
      },
      "source": [
        "colors = [\"blue\", \"red\"]\n",
        "color = np.array([colors[0]]*h + [colors[1]]*h).reshape(n)\n",
        "plt.scatter(data[:, 0], data[:, 1], color=color)"
      ],
      "execution_count": 7,
      "outputs": [
        {
          "output_type": "execute_result",
          "data": {
            "text/plain": [
              "<matplotlib.collections.PathCollection at 0x7fbaa7b6e470>"
            ]
          },
          "metadata": {
            "tags": []
          },
          "execution_count": 7
        },
        {
          "output_type": "display_data",
          "data": {
            "image/png": "[encoded data removed]",
            "text/plain": [
              "<Figure size 432x288 with 1 Axes>"
            ]
          },
          "metadata": {
            "tags": [],
            "needs_background": "light"
          }
        }
      ]
    },
    {
      "cell_type": "code",
      "metadata": {
        "id": "oHdNcuZepTjr",
        "outputId": "07f80cda-d986-469a-acfb-f9ba721941be",
        "colab": {
          "base_uri": "https://localhost:8080/",
          "height": 34
        }
      },
      "source": [
        "target = np.array([0]*h + [1]*h).reshape(n, 1)\n",
        "x = torch.from_numpy(data).float().requires_grad_(True)\n",
        "y = torch.from_numpy(target).float()\n",
        "x.shape, y.shape"
      ],
      "execution_count": 10,
      "outputs": [
        {
          "output_type": "execute_result",
          "data": {
            "text/plain": [
              "(torch.Size([100, 2]), torch.Size([100, 1]))"
            ]
          },
          "metadata": {
            "tags": []
          },
          "execution_count": 10
        }
      ]
    },
    {
      "cell_type": "markdown",
      "metadata": {
        "id": "OlslgZP1112U"
      },
      "source": [
        "Training Loop\n",
        "\n",
        "*   Modelo de dos variables de entrada con una de salida.\n",
        "*   **BCELoss** -> Binary Cross Entropy entre la predicción y el output.\n",
        "*   Gráfica de como las iteraciones hacen que el loss se reduzca.\n",
        "\n"
      ]
    },
    {
      "cell_type": "code",
      "metadata": {
        "id": "nMcg_7bwxBrc",
        "outputId": "7a4167e2-19d5-4f09-d6da-5f8b98bd7518",
        "colab": {
          "base_uri": "https://localhost:8080/",
          "height": 282
        }
      },
      "source": [
        "model = nn.Sequential(nn.Linear(2, 1), nn.Sigmoid())\n",
        "loss_function = nn.BCELoss()\n",
        "optimizer = optim.SGD(model.parameters(), lr=0.015)\n",
        "iterations = 1000\n",
        "\n",
        "losses = []\n",
        "\n",
        "for i in range(iterations):\n",
        "  pred = model(x)\n",
        "  loss = loss_function(pred, y)\n",
        "  losses.append(loss)\n",
        "\n",
        "  optimizer.zero_grad()\n",
        "  loss.backward()\n",
        "  optimizer.step()\n",
        "\n",
        "plt.plot(range(iterations), losses)"
      ],
      "execution_count": 18,
      "outputs": [
        {
          "output_type": "execute_result",
          "data": {
            "text/plain": [
              "[<matplotlib.lines.Line2D at 0x7fba9d7440b8>]"
            ]
          },
          "metadata": {
            "tags": []
          },
          "execution_count": 18
        },
        {
          "output_type": "display_data",
          "data": {
            "image/png": "[encoded data removed]",
            "text/plain": [
              "<Figure size 432x288 with 1 Axes>"
            ]
          },
          "metadata": {
            "tags": [],
            "needs_background": "light"
          }
        }
      ]
    },
    {
      "cell_type": "markdown",
      "metadata": {
        "id": "QKl4-2Rg2nIS"
      },
      "source": [
        "Comprobación del modelo entrenado\n",
        "\n",
        "\n",
        "*   Si la predicción > 0.5 == rojo\n",
        "*   Si la predicción < 0.5 == azul\n",
        "\n",
        "\n",
        "\n"
      ]
    },
    {
      "cell_type": "code",
      "metadata": {
        "id": "VoX-jaD-2mzs",
        "outputId": "7611657f-fc8a-40e5-c8d2-7870594c066e",
        "colab": {
          "base_uri": "https://localhost:8080/",
          "height": 51
        }
      },
      "source": [
        "pred_blue = torch.Tensor([[-5, -6]])\n",
        "prediction_model = model(pred_blue).data[0, 0] > 0.5\n",
        "print(colors[prediction_model])\n",
        "\n",
        "pred_red = torch.Tensor([[8, 6]])\n",
        "prediction_model = model(pred_red).data[0, 0] > 0.5\n",
        "print(colors[prediction_model])"
      ],
      "execution_count": 25,
      "outputs": [
        {
          "output_type": "stream",
          "text": [
            "blue\n",
            "red\n"
          ],
          "name": "stdout"
        }
      ]
    },
    {
      "cell_type": "markdown",
      "metadata": {
        "id": "c3XjQVzq4Jx9"
      },
      "source": [
        "Graficado de los datos con uso del sigmoide y línea en base al sigmoide."
      ]
    },
    {
      "cell_type": "code",
      "metadata": {
        "id": "zF2GTBKL4RpT",
        "outputId": "0f7b88a7-e417-4cdc-d4aa-8bc33e228a9d",
        "colab": {
          "base_uri": "https://localhost:8080/",
          "height": 282
        }
      },
      "source": [
        "weight = list(model.parameters())\n",
        "w0 = weight[0].data.numpy()\n",
        "w1 = weight[1].data.numpy()\n",
        "\n",
        "plt.scatter(data[:, 0], data[:, 1], c=color, s=50, alpha=0.5)\n",
        "\n",
        "x_axis = np.linspace(-10, 10, n)\n",
        "y_axis = -(w1[0] + x_axis*w0[0, 0]) / w0[0, 1]\n",
        "\n",
        "plt.plot(x_axis, y_axis, 'g--')"
      ],
      "execution_count": 32,
      "outputs": [
        {
          "output_type": "execute_result",
          "data": {
            "text/plain": [
              "[<matplotlib.lines.Line2D at 0x7fba9d2ce0b8>]"
            ]
          },
          "metadata": {
            "tags": []
          },
          "execution_count": 32
        },
        {
          "output_type": "display_data",
          "data": {
            "image/png": "[encoded data removed]",
            "text/plain": [
              "<Figure size 432x288 with 1 Axes>"
            ]
          },
          "metadata": {
            "tags": [],
            "needs_background": "light"
          }
        }
      ]
    }
  ]
}